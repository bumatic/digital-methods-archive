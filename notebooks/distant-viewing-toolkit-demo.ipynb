{
  "nbformat": 4,
  "nbformat_minor": 0,
  "metadata": {
    "colab": {
      "name": "Untitled1.ipynb",
      "provenance": [],
      "collapsed_sections": []
    },
    "kernelspec": {
      "name": "python3",
      "display_name": "Python 3"
    },
    "accelerator": "GPU"
  },
  "cells": [
    {
      "cell_type": "markdown",
      "metadata": {
        "id": "UdEoLfyQZfOU"
      },
      "source": [
        "# Distant Viewing Toolkit: Example Usage\n",
        "\n",
        "This notebook introduces the usage of the Distant Viewing Toolkit to generate structured metadata from digitized moving images. The notebook is running in Google's Colab environment, which simplifies the installation process.  Instructions setting up the software on your own machine can be found on the project's [GitHub page](https://github.com/distant-viewing/dvt). \n",
        "\n",
        "To run the code on this page, just click on a block of code and either hit run button on the left of the code or type ⌘/Ctrl+Enter. You may be prompted to log into a Google account before executing the code.\n",
        "\n",
        "**Note**: This notebook can be run using a free GPU instance, which significantly speeds up the processing of the example data. To do this, select *Runtime > Change runtime type* using the menu above and select GPU as the Hardware accelerator. This must be done before running any of the code below."
      ]
    },
    {
      "cell_type": "markdown",
      "metadata": {
        "id": "2jhXa2hMahcZ"
      },
      "source": [
        "### Setup\n",
        "\n",
        "This notebook is running on a default installation of Python 3.7, but does not yet have the Distant Viewing Toolkit or all of its dependencies installed. To  do this, run the following block of code (this may take a minute or two)."
      ]
    },
    {
      "cell_type": "code",
      "metadata": {
        "id": "5wp5Kz84BCza"
      },
      "source": [
        "%tensorflow_version 2.x\n",
        "%pip install --upgrade -q git+https://github.com/distant-viewing/dvt.git@14715eb228aabf6561ddb876bbd1b339c29d71bc"
      ],
      "execution_count": null,
      "outputs": []
    },
    {
      "cell_type": "markdown",
      "metadata": {
        "id": "hbcvXRyQI3rb"
      },
      "source": [
        "Next, we need to grab a video file that we will apply the toolkit to. Run the following code to upload a short clip from the film *All the President's Men*:"
      ]
    },
    {
      "cell_type": "code",
      "metadata": {
        "id": "dU-hjrVuBXdC"
      },
      "source": [
        "!wget -q https://github.com/distant-viewing/dvt-tutorial/raw/master/videos/all-presidents-men-sample.mp4"
      ],
      "execution_count": 2,
      "outputs": []
    },
    {
      "cell_type": "markdown",
      "metadata": {
        "id": "9o_lXhyKbYtu"
      },
      "source": [
        "Instructions for uploading your own files are included below."
      ]
    },
    {
      "cell_type": "markdown",
      "metadata": {
        "id": "sC9EZatvbCiU"
      },
      "source": [
        "\n",
        "### Running the Toolkit\n",
        "\n",
        "Now, we are ready to load and run the Distant Viewing toolkit over the video file. To start, we will load functions and modules by running the following block of code:"
      ]
    },
    {
      "cell_type": "code",
      "metadata": {
        "id": "bVtLnUoOKkvx"
      },
      "source": [
        "from dvt.pipeline.csv import VideoCsvPipeline\n",
        "from os.path import join\n",
        "import pandas as pd\n",
        "from IPython.display import Image"
      ],
      "execution_count": 14,
      "outputs": []
    },
    {
      "cell_type": "markdown",
      "metadata": {
        "id": "4_wBRuorcDzz"
      },
      "source": [
        "Next, we will run a default sequence of computer vision algorithms over the video file by running the following line of code. Note that this could take several minutes to complete; you may also see one or two warnings, though these can be safely ignored."
      ]
    },
    {
      "cell_type": "code",
      "metadata": {
        "id": "ESVNuC_WLNEm"
      },
      "source": [
        "VideoCsvPipeline(finput=\"all-presidents-men-sample.mp4\", dirout=\"dvt-output-csv\", include_images=True).run()"
      ],
      "execution_count": null,
      "outputs": []
    },
    {
      "cell_type": "markdown",
      "metadata": {
        "id": "gF_3abi3crjv"
      },
      "source": [
        "You will know that the code is finished processing when the spinning icon on the left of the code stop moving and turns into a number in square brackets."
      ]
    },
    {
      "cell_type": "markdown",
      "metadata": {
        "id": "lZrEhiUvcWnD"
      },
      "source": [
        "### Viewing the Output\n",
        "\n",
        "We can now take a look at the output of the pipeline, which consists of several CSV files and extracted frames. Here is a list of the available files: "
      ]
    },
    {
      "cell_type": "code",
      "metadata": {
        "id": "RD4QASiqxBq5"
      },
      "source": [
        "!ls -l dvt-output-csv/all-presidents-men-sample/data"
      ],
      "execution_count": null,
      "outputs": []
    },
    {
      "cell_type": "markdown",
      "metadata": {
        "id": "4mUdC5BjilKF"
      },
      "source": [
        "To illustrate, we will read a few of these into Python using the **pandas** module. Here, for example, are all of the faces in the detected cuts:"
      ]
    },
    {
      "cell_type": "code",
      "metadata": {
        "id": "-68ldvF5xCwx"
      },
      "source": [
        "pd.read_csv(\"dvt-output-csv/all-presidents-men-sample/data/face.csv\")"
      ],
      "execution_count": null,
      "outputs": []
    },
    {
      "cell_type": "markdown",
      "metadata": {
        "id": "a5u7WPdcizG7"
      },
      "source": [
        "And here are the detected objects:"
      ]
    },
    {
      "cell_type": "code",
      "metadata": {
        "id": "mNn-IvLFLey4"
      },
      "source": [
        "pd.read_csv(\"dvt-output-csv/all-presidents-men-sample/data/obj.csv\")"
      ],
      "execution_count": null,
      "outputs": []
    },
    {
      "cell_type": "markdown",
      "metadata": {
        "id": "PxtoFlsci37n"
      },
      "source": [
        "The pipeline has also extract the median frame from each detect shot, which we can use to confirm the extracted CSV data:"
      ]
    },
    {
      "cell_type": "code",
      "metadata": {
        "id": "ZvyT-G9Ji4Vp"
      },
      "source": [
        "!ls -l dvt-output-csv/all-presidents-men-sample/img"
      ],
      "execution_count": null,
      "outputs": []
    },
    {
      "cell_type": "markdown",
      "metadata": {
        "id": "TyH2H1lLi4sb"
      },
      "source": [
        "For example, the first cut does show one person along with a wine glass (or at least something very similar to a wine glass filled with water):"
      ]
    },
    {
      "cell_type": "code",
      "metadata": {
        "id": "vD7pC0GijRCu"
      },
      "source": [
        "Image(\"dvt-output-csv/all-presidents-men-sample/img/frame-000074.png\")"
      ],
      "execution_count": null,
      "outputs": []
    },
    {
      "cell_type": "markdown",
      "metadata": {
        "id": "179w3bRNjgBR"
      },
      "source": [
        "And the second cut shoes another person with a similar wine glass as well as a tie:"
      ]
    },
    {
      "cell_type": "code",
      "metadata": {
        "id": "uExVFF7-jlMs"
      },
      "source": [
        "Image(\"dvt-output-csv/all-presidents-men-sample/img/frame-000197.png\")"
      ],
      "execution_count": null,
      "outputs": []
    },
    {
      "cell_type": "markdown",
      "metadata": {
        "id": "lyPlz6Z7j7sR"
      },
      "source": [
        "You can change the code above to load ther other cuts and to view the other CSV files."
      ]
    },
    {
      "cell_type": "markdown",
      "metadata": {
        "id": "UGcxV9ZGkFZq"
      },
      "source": [
        "### Downloading the data\n",
        "\n",
        "You may eventually want to download the extracted data to your local machine. This can be done by click *View > Table of contents* in the menu above, selecting the folder icon (third one down on the left-hand side), clicking on the three vertical dots icon to the right of the \"dvt-output-csv\" folder, and then selecting \"Download\".\n",
        "\n",
        "In theory this can also be done with a short line of code, but we have experienced issues when using different browsers and find the manual method for downloading the file more reliable.\n"
      ]
    },
    {
      "cell_type": "markdown",
      "metadata": {
        "id": "Z9Jp3-0zllRN"
      },
      "source": [
        "## Using your own data\n",
        "\n",
        "Hopefully the above demo has encouraged you to explore using the Distant Viewing Toolkit with your own data. You can try this out within the Google Colab Notebook by first uploading your file to Google Drive. Then, run the following block of code to attach your Google Drive account to this notebook (it may prompt you to open another window and paste a password over):"
      ]
    },
    {
      "cell_type": "code",
      "metadata": {
        "id": "TyqtQOO2xNpc",
        "outputId": "f2c5ef61-58e6-40fd-e503-ead5be8f1a3c",
        "colab": {
          "base_uri": "https://localhost:8080/",
          "height": 34
        }
      },
      "source": [
        "from google.colab import drive\n",
        "drive.mount('drive')"
      ],
      "execution_count": 22,
      "outputs": [
        {
          "output_type": "stream",
          "text": [
            "Mounted at drive\n"
          ],
          "name": "stdout"
        }
      ]
    },
    {
      "cell_type": "markdown",
      "metadata": {
        "id": "Iw631W0NnBMK"
      },
      "source": [
        "Once that is complete, you should have access to your Google drive in the following location:"
      ]
    },
    {
      "cell_type": "code",
      "metadata": {
        "id": "7qOmSkxiyAlp"
      },
      "source": [
        "%ls drive/'My Drive'"
      ],
      "execution_count": null,
      "outputs": []
    },
    {
      "cell_type": "markdown",
      "metadata": {
        "id": "V0myJ33MnKlt"
      },
      "source": [
        "You should then be able to run the toolkit over your video file just as before by selecting the path to your video file of interest. If your video is called \"dvt-demo.mp4\", for example, you would run the following:"
      ]
    },
    {
      "cell_type": "code",
      "metadata": {
        "id": "7UBX5RTxM6BL"
      },
      "source": [
        "VideoCsvPipeline(finput=\"drive/My Drive/dvt-demo.mp4\", dirout=\"dvt-output-csv\", include_images=True).run()"
      ],
      "execution_count": null,
      "outputs": []
    },
    {
      "cell_type": "markdown",
      "metadata": {
        "id": "c09SXYJfnfIF"
      },
      "source": [
        "The GPUs provided by Google Colab are not particularly fast; it may take a while to process long videos, particularly if they were recorded in high-definition.\n",
        "\n",
        "As before, the download files will be in the \"dvt-output-csv\" directory, and can be downloaded with the same instructions as above:\n"
      ]
    },
    {
      "cell_type": "code",
      "metadata": {
        "id": "OjqfzNJvnq6N"
      },
      "source": [
        "!ls -l dvt-output-csv/"
      ],
      "execution_count": null,
      "outputs": []
    },
    {
      "cell_type": "markdown",
      "metadata": {
        "id": "cc5OSl-cnvf6"
      },
      "source": [
        "There are any array of different annotators and aggregation algorithms included in the toolkit, and many tuning parameters than can be adjusted. For more information, see the documentation on the project's GitHub page."
      ]
    }
  ]
}